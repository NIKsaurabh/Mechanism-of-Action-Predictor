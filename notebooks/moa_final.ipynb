{
 "cells": [
  {
   "cell_type": "code",
   "execution_count": 1,
   "id": "dried-cylinder",
   "metadata": {},
   "outputs": [],
   "source": [
    "import pandas as pd\n",
    "import numpy as np\n",
    "import pickle\n",
    "from tensorflow.keras.models import load_model\n",
    "import warnings\n",
    "from sklearn.metrics import log_loss\n",
    "from tqdm import tqdm\n",
    "warnings.filterwarnings(\"ignore\")"
   ]
  },
  {
   "cell_type": "code",
   "execution_count": 2,
   "id": "indoor-green",
   "metadata": {},
   "outputs": [],
   "source": [
    "def final_fun_1(X):\n",
    "    \n",
    "    #encoding categorical features\n",
    "    X.iloc[:,1] = X.iloc[:,1].map({'trt_cp':0, 'ctl_vehicle':1})\n",
    "    X.iloc[:,2] = X.iloc[:,2].map({24:0, 48:1, 72:2})\n",
    "    X.iloc[:,3] = X.iloc[:,3].map({'D1':0, 'D2':1})\n",
    "    \n",
    "    #normalizing gene and cell columns\n",
    "    transformer = pickle.load(open('transform.pkl','rb'))\n",
    "    X.iloc[:,4:] = transformer.transform(X.iloc[:,4:])\n",
    "    \n",
    "    #getting more features using auto-encoder\n",
    "    encoder = load_model('encoder.h5')\n",
    "    encoded_features = encoder.predict(X.iloc[:,1:])\n",
    "    \n",
    "    #adding encoded features with original features\n",
    "    total_X = pd.concat([X,pd.DataFrame(encoded_features)], axis=1)\n",
    "    \n",
    "    #loading pre-trained model\n",
    "    model = pickle.load(open('final_model.pkl','rb'))\n",
    "    \n",
    "    #loading column names of target columns\n",
    "    columns = pickle.load(open('target_columns.pkl','rb'))\n",
    "    \n",
    "    #predictions\n",
    "    pred = model.predict(total_X.iloc[:,1:])\n",
    "    pred_data = pd.DataFrame(pred, columns = columns)\n",
    "    pred_data.insert(loc=0,column='sig_id',value = X['sig_id'])\n",
    "    \n",
    "    pred_prob = model.predict_proba(total_X.iloc[:,1:])\n",
    "    pred_prob_data = pd.DataFrame(pred_prob,columns=columns)\n",
    "    pred_prob_data.insert(loc=0,column='sig_id',value = X['sig_id'])\n",
    "    \n",
    "    return pred_data, pred_prob_data  "
   ]
  },
  {
   "cell_type": "code",
   "execution_count": 3,
   "id": "understood-security",
   "metadata": {},
   "outputs": [],
   "source": [
    "def final_fun_2(X,y):\n",
    "    \n",
    "    #encoding categorical features\n",
    "    X.iloc[:,1] = X.iloc[:,1].map({'trt_cp':0, 'ctl_vehicle':1})\n",
    "    X.iloc[:,2] = X.iloc[:,2].map({24:0, 48:1, 72:2})\n",
    "    X.iloc[:,3] = X.iloc[:,3].map({'D1':0, 'D2':1})\n",
    "    \n",
    "    #normalizing gene and cell columns\n",
    "    transformer = pickle.load(open('transform.pkl','rb'))\n",
    "    X.iloc[:,4:] = transformer.transform(X.iloc[:,4:])\n",
    "    \n",
    "    #getting more features using auto-encoder\n",
    "    encoder = load_model('encoder.h5')\n",
    "    encoded_features = encoder.predict(X.iloc[:,1:])\n",
    "    \n",
    "    #adding encoded features with original features\n",
    "    total_X = pd.concat([X,pd.DataFrame(encoded_features)], axis=1)\n",
    "    \n",
    "    #loading pre-trained model\n",
    "    model = pickle.load(open('final_model.pkl','rb'))\n",
    "    \n",
    "    #prediction\n",
    "    pred_prob = model.predict_proba(total_X.iloc[:,1:])\n",
    "    \n",
    "    metric_value = []    #list to store log-loss of each target features\n",
    "  \n",
    "    for i in tqdm(range(y.shape[1]-1)):    #iterating over each target columns\n",
    "        loss = log_loss(y.iloc[:,i],pred_prob[:,i], labels=[0, 1])    #computing log-loss\n",
    "        metric_value.append(loss)\n",
    "\n",
    "    \n",
    "    return np.mean(metric_value)"
   ]
  },
  {
   "cell_type": "code",
   "execution_count": null,
   "id": "dress-vietnamese",
   "metadata": {},
   "outputs": [],
   "source": [
    "test = pd.read_csv('')"
   ]
  },
  {
   "cell_type": "code",
   "execution_count": null,
   "id": "directed-helmet",
   "metadata": {},
   "outputs": [],
   "source": []
  }
 ],
 "metadata": {
  "kernelspec": {
   "display_name": "Python 3",
   "language": "python",
   "name": "python3"
  },
  "language_info": {
   "codemirror_mode": {
    "name": "ipython",
    "version": 3
   },
   "file_extension": ".py",
   "mimetype": "text/x-python",
   "name": "python",
   "nbconvert_exporter": "python",
   "pygments_lexer": "ipython3",
   "version": "3.7.7"
  }
 },
 "nbformat": 4,
 "nbformat_minor": 5
}
